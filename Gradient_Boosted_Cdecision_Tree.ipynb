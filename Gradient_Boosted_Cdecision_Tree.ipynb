{
 "cells": [
  {
   "cell_type": "markdown",
   "id": "89d5a0fe",
   "metadata": {},
   "source": [
    "# Required Libraries"
   ]
  },
  {
   "cell_type": "code",
   "execution_count": null,
   "id": "339cc9e8",
   "metadata": {},
   "outputs": [],
   "source": [
    "import pandas as pd\n",
    "import numpy as np\n",
    "import lightgbm as lgb\n",
    "from sklearn.model_selection import train_test_split\n",
    "from sklearn.metrics import mean_squared_error, r2_score"
   ]
  },
  {
   "cell_type": "markdown",
   "id": "2a956b76",
   "metadata": {},
   "source": [
    "# Load & Prepare Data"
   ]
  },
  {
   "cell_type": "code",
   "execution_count": null,
   "id": "9e474ad9",
   "metadata": {},
   "outputs": [],
   "source": [
    "# Simulated structure of your DataFrame\n",
    "# df = pd.read_csv('your_data.csv')  # If loading from file\n",
    "\n",
    "# Define features and targets\n",
    "categorical_features = ['machine_type', 'glue_type', 'wood_type']  # replace with actual\n",
    "numerical_features = ['temperature', 'pressure', 'moisture', 'speed']  # replace with actual\n",
    "\n",
    "target_columns = ['accuracy', 'tensile_strength', 'waste_material']\n",
    "\n",
    "# Ensure correct types\n",
    "for cat in categorical_features:\n",
    "    df[cat] = df[cat].astype('category')\n",
    "\n",
    "X = df[categorical_features + numerical_features]\n",
    "y = df[target_columns]"
   ]
  },
  {
   "cell_type": "markdown",
   "id": "1b73793e",
   "metadata": {},
   "source": [
    "# Train-Test Split"
   ]
  },
  {
   "cell_type": "code",
   "execution_count": null,
   "id": "9aa1a32f",
   "metadata": {},
   "outputs": [],
   "source": [
    "X_train, X_test, y_train, y_test = train_test_split(\n",
    "    X, y, test_size=0.2, random_state=42\n",
    ")"
   ]
  },
  {
   "cell_type": "markdown",
   "id": "1f6e092e",
   "metadata": {},
   "source": [
    "# Train Separate GBDT Models per Target (Multivariate Regression via multiple models)"
   ]
  },
  {
   "cell_type": "code",
   "execution_count": null,
   "id": "37dc562a",
   "metadata": {},
   "outputs": [],
   "source": [
    "models = {}\n",
    "predictions = {}\n",
    "metrics = {}\n",
    "\n",
    "for target in target_columns:\n",
    "    train_data = lgb.Dataset(X_train, label=y_train[target], categorical_feature=categorical_features)\n",
    "    test_data = lgb.Dataset(X_test, label=y_test[target], categorical_feature=categorical_features)\n",
    "\n",
    "    params = {\n",
    "        'objective': 'regression',\n",
    "        'metric': 'rmse',\n",
    "        'boosting_type': 'gbdt',\n",
    "        'learning_rate': 0.05,\n",
    "        'num_leaves': 31,\n",
    "        'verbose': -1\n",
    "    }\n",
    "\n",
    "    model = lgb.train(params, train_data, valid_sets=[test_data], early_stopping_rounds=20, verbose_eval=False)\n",
    "    models[target] = model\n",
    "\n",
    "    # Predict and evaluate\n",
    "    y_pred = model.predict(X_test, num_iteration=model.best_iteration)\n",
    "    predictions[target] = y_pred\n",
    "    metrics[target] = {\n",
    "        'RMSE': mean_squared_error(y_test[target], y_pred, squared=False),\n",
    "        'R2': r2_score(y_test[target], y_pred)\n",
    "    }"
   ]
  },
  {
   "cell_type": "markdown",
   "id": "ad544b23",
   "metadata": {},
   "source": [
    "# Print Evaluation Metrics"
   ]
  },
  {
   "cell_type": "code",
   "execution_count": null,
   "id": "6ca479fe",
   "metadata": {},
   "outputs": [],
   "source": [
    "for target in target_columns:\n",
    "    print(f\"\\n{target.upper()}\")\n",
    "    print(\"RMSE:\", round(metrics[target]['RMSE'], 3))\n",
    "    print(\"R2 Score:\", round(metrics[target]['R2'], 3))"
   ]
  },
  {
   "cell_type": "markdown",
   "id": "82a23f97",
   "metadata": {},
   "source": [
    "# Feature Importance (Optional)"
   ]
  },
  {
   "cell_type": "code",
   "execution_count": null,
   "id": "2f237b28",
   "metadata": {},
   "outputs": [],
   "source": [
    "import matplotlib.pyplot as plt\n",
    "\n",
    "for target in target_columns:\n",
    "    lgb.plot_importance(models[target], max_num_features=10, title=f\"Feature Importance for {target}\")\n",
    "    plt.show()"
   ]
  }
 ],
 "metadata": {
  "kernelspec": {
   "display_name": "Python 3",
   "language": "python",
   "name": "python3"
  },
  "language_info": {
   "name": "python",
   "version": "3.13.5"
  }
 },
 "nbformat": 4,
 "nbformat_minor": 5
}
